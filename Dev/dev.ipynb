{
 "cells": [
  {
   "cell_type": "code",
   "execution_count": null,
   "id": "76c21544",
   "metadata": {},
   "outputs": [],
   "source": []
  },
  {
   "cell_type": "markdown",
   "id": "f9f69970",
   "metadata": {},
   "source": [
    "# Inventory Organizational Content"
   ]
  },
  {
   "cell_type": "code",
   "execution_count": 1,
   "id": "1b4fda69",
   "metadata": {},
   "outputs": [],
   "source": [
    "import pandas as pd\n",
    "from IPython.display import display\n",
    "\n",
    "import arcgis\n",
    "from arcgis.gis import GIS"
   ]
  },
  {
   "cell_type": "code",
   "execution_count": 2,
   "id": "20b17f3e",
   "metadata": {},
   "outputs": [
    {
     "ename": "AttributeError",
     "evalue": "'NoneType' object has no attribute 'lower'",
     "output_type": "error",
     "traceback": [
      "\u001b[1;31m---------------------------------------------------------------------------\u001b[0m",
      "\u001b[1;31mAttributeError\u001b[0m                            Traceback (most recent call last)",
      "\u001b[1;32m<ipython-input-2-d0891f275918>\u001b[0m in \u001b[0;36m<module>\u001b[1;34m\u001b[0m\n\u001b[0;32m      1\u001b[0m \u001b[0mprofile_name\u001b[0m \u001b[1;33m=\u001b[0m \u001b[1;34m\"lv7966\"\u001b[0m\u001b[1;33m\u001b[0m\u001b[1;33m\u001b[0m\u001b[0m\n\u001b[0;32m      2\u001b[0m \u001b[1;33m\u001b[0m\u001b[0m\n\u001b[1;32m----> 3\u001b[1;33m \u001b[0mgis\u001b[0m \u001b[1;33m=\u001b[0m \u001b[0mGIS\u001b[0m\u001b[1;33m(\u001b[0m\u001b[0mprofile\u001b[0m\u001b[1;33m=\u001b[0m\u001b[0mprofile_name\u001b[0m\u001b[1;33m)\u001b[0m\u001b[1;33m\u001b[0m\u001b[1;33m\u001b[0m\u001b[0m\n\u001b[0m\u001b[0;32m      4\u001b[0m \u001b[0mgis\u001b[0m\u001b[1;33m.\u001b[0m\u001b[0musers\u001b[0m\u001b[1;33m.\u001b[0m\u001b[0mme\u001b[0m\u001b[1;33m\u001b[0m\u001b[1;33m\u001b[0m\u001b[0m\n",
      "\u001b[1;32mC:\\Program Files\\ArcGIS\\Server\\framework\\runtime\\ArcGIS\\bin\\Python\\envs\\arcgispro-py3\\lib\\site-packages\\arcgis\\gis\\__init__.py\u001b[0m in \u001b[0;36m__init__\u001b[1;34m(self, url, username, password, key_file, cert_file, verify_cert, set_active, client_id, profile, **kwargs)\u001b[0m\n\u001b[0;32m    505\u001b[0m                 )\n\u001b[0;32m    506\u001b[0m             \u001b[1;32melse\u001b[0m\u001b[1;33m:\u001b[0m\u001b[1;33m\u001b[0m\u001b[1;33m\u001b[0m\u001b[0m\n\u001b[1;32m--> 507\u001b[1;33m                 \u001b[1;32mraise\u001b[0m \u001b[0me\u001b[0m\u001b[1;33m\u001b[0m\u001b[1;33m\u001b[0m\u001b[0m\n\u001b[0m\u001b[0;32m    508\u001b[0m         \u001b[1;32mtry\u001b[0m\u001b[1;33m:\u001b[0m\u001b[1;33m\u001b[0m\u001b[1;33m\u001b[0m\u001b[0m\n\u001b[0;32m    509\u001b[0m             if (\n",
      "\u001b[1;32mC:\\Program Files\\ArcGIS\\Server\\framework\\runtime\\ArcGIS\\bin\\Python\\envs\\arcgispro-py3\\lib\\site-packages\\arcgis\\gis\\__init__.py\u001b[0m in \u001b[0;36m__init__\u001b[1;34m(self, url, username, password, key_file, cert_file, verify_cert, set_active, client_id, profile, **kwargs)\u001b[0m\n\u001b[0;32m    446\u001b[0m             \u001b[0mself\u001b[0m\u001b[1;33m.\u001b[0m\u001b[0m_expiration\u001b[0m \u001b[1;33m=\u001b[0m \u001b[1;36m60\u001b[0m\u001b[1;33m\u001b[0m\u001b[1;33m\u001b[0m\u001b[0m\n\u001b[0;32m    447\u001b[0m         \u001b[1;32mtry\u001b[0m\u001b[1;33m:\u001b[0m\u001b[1;33m\u001b[0m\u001b[1;33m\u001b[0m\u001b[0m\n\u001b[1;32m--> 448\u001b[1;33m             self._portal = _portalpy.Portal(\n\u001b[0m\u001b[0;32m    449\u001b[0m                 \u001b[0mself\u001b[0m\u001b[1;33m.\u001b[0m\u001b[0m_url\u001b[0m\u001b[1;33m,\u001b[0m\u001b[1;33m\u001b[0m\u001b[1;33m\u001b[0m\u001b[0m\n\u001b[0;32m    450\u001b[0m                 \u001b[0mself\u001b[0m\u001b[1;33m.\u001b[0m\u001b[0m_username\u001b[0m\u001b[1;33m,\u001b[0m\u001b[1;33m\u001b[0m\u001b[1;33m\u001b[0m\u001b[0m\n",
      "\u001b[1;32mC:\\Program Files\\ArcGIS\\Server\\framework\\runtime\\ArcGIS\\bin\\Python\\envs\\arcgispro-py3\\lib\\site-packages\\arcgis\\gis\\_impl\\_portalpy.py\u001b[0m in \u001b[0;36m__init__\u001b[1;34m(self, url, username, password, key_file, cert_file, expiration, referer, proxy_host, proxy_port, connection, workdir, tokenurl, verify_cert, client_id, custom_auth, token, **kwargs)\u001b[0m\n\u001b[0;32m    201\u001b[0m                 \u001b[1;32mif\u001b[0m \u001b[0mtoken\u001b[0m \u001b[1;33m==\u001b[0m \u001b[0mapi_key\u001b[0m\u001b[1;33m:\u001b[0m\u001b[1;33m\u001b[0m\u001b[1;33m\u001b[0m\u001b[0m\n\u001b[0;32m    202\u001b[0m                     \u001b[0mtoken\u001b[0m \u001b[1;33m=\u001b[0m \u001b[1;32mNone\u001b[0m\u001b[1;33m\u001b[0m\u001b[1;33m\u001b[0m\u001b[0m\n\u001b[1;32m--> 203\u001b[1;33m                 self.con = Connection(\n\u001b[0m\u001b[0;32m    204\u001b[0m                     \u001b[0mbaseurl\u001b[0m\u001b[1;33m=\u001b[0m\u001b[0mself\u001b[0m\u001b[1;33m.\u001b[0m\u001b[0mresturl\u001b[0m\u001b[1;33m,\u001b[0m\u001b[1;33m\u001b[0m\u001b[1;33m\u001b[0m\u001b[0m\n\u001b[0;32m    205\u001b[0m                     \u001b[0mtokenurl\u001b[0m\u001b[1;33m=\u001b[0m\u001b[0mtokenurl\u001b[0m\u001b[1;33m,\u001b[0m\u001b[1;33m\u001b[0m\u001b[1;33m\u001b[0m\u001b[0m\n",
      "\u001b[1;32mC:\\Program Files\\ArcGIS\\Server\\framework\\runtime\\ArcGIS\\bin\\Python\\envs\\arcgispro-py3\\lib\\site-packages\\arcgis\\gis\\_impl\\_con\\_connection.py\u001b[0m in \u001b[0;36m__init__\u001b[1;34m(self, baseurl, username, password, **kwargs)\u001b[0m\n\u001b[0;32m    301\u001b[0m             \u001b[0mself\u001b[0m\u001b[1;33m.\u001b[0m\u001b[0m_session\u001b[0m \u001b[1;33m=\u001b[0m \u001b[0mself\u001b[0m\u001b[1;33m.\u001b[0m\u001b[0m_portal_connection\u001b[0m\u001b[1;33m.\u001b[0m\u001b[0m_session\u001b[0m\u001b[1;33m\u001b[0m\u001b[1;33m\u001b[0m\u001b[0m\n\u001b[0;32m    302\u001b[0m         \u001b[1;32melse\u001b[0m\u001b[1;33m:\u001b[0m\u001b[1;33m\u001b[0m\u001b[1;33m\u001b[0m\u001b[0m\n\u001b[1;32m--> 303\u001b[1;33m             \u001b[0mself\u001b[0m\u001b[1;33m.\u001b[0m\u001b[0m_create_session\u001b[0m\u001b[1;33m(\u001b[0m\u001b[1;33m)\u001b[0m\u001b[1;33m\u001b[0m\u001b[1;33m\u001b[0m\u001b[0m\n\u001b[0m\u001b[0;32m    304\u001b[0m \u001b[1;33m\u001b[0m\u001b[0m\n\u001b[0;32m    305\u001b[0m         \u001b[1;31m#  Product Info\u001b[0m\u001b[1;33m\u001b[0m\u001b[1;33m\u001b[0m\u001b[0m\n",
      "\u001b[1;32mC:\\Program Files\\ArcGIS\\Server\\framework\\runtime\\ArcGIS\\bin\\Python\\envs\\arcgispro-py3\\lib\\site-packages\\arcgis\\gis\\_impl\\_con\\_connection.py\u001b[0m in \u001b[0;36m_create_session\u001b[1;34m(self)\u001b[0m\n\u001b[0;32m    501\u001b[0m             \u001b[0mself\u001b[0m\u001b[1;33m.\u001b[0m\u001b[0m_session\u001b[0m\u001b[1;33m.\u001b[0m\u001b[0mauth\u001b[0m \u001b[1;33m=\u001b[0m \u001b[0mself\u001b[0m\u001b[1;33m.\u001b[0m\u001b[0m_custom_auth\u001b[0m\u001b[1;33m\u001b[0m\u001b[1;33m\u001b[0m\u001b[0m\n\u001b[0;32m    502\u001b[0m             \u001b[0mself\u001b[0m\u001b[1;33m.\u001b[0m\u001b[0m_auth\u001b[0m \u001b[1;33m=\u001b[0m \u001b[1;34m\"CUSTOM\"\u001b[0m\u001b[1;33m\u001b[0m\u001b[1;33m\u001b[0m\u001b[0m\n\u001b[1;32m--> 503\u001b[1;33m         \u001b[1;32melif\u001b[0m \u001b[0mself\u001b[0m\u001b[1;33m.\u001b[0m\u001b[0m_auth\u001b[0m\u001b[1;33m.\u001b[0m\u001b[0mlower\u001b[0m\u001b[1;33m(\u001b[0m\u001b[1;33m)\u001b[0m \u001b[1;33m==\u001b[0m \u001b[1;34m\"home\"\u001b[0m\u001b[1;33m:\u001b[0m\u001b[1;33m\u001b[0m\u001b[1;33m\u001b[0m\u001b[0m\n\u001b[0m\u001b[0;32m    504\u001b[0m             \u001b[1;32mfrom\u001b[0m \u001b[0marcgis\u001b[0m\u001b[1;33m.\u001b[0m\u001b[0mauth\u001b[0m\u001b[1;33m.\u001b[0m\u001b[0m_auth\u001b[0m\u001b[1;33m.\u001b[0m\u001b[0m_notebook\u001b[0m \u001b[1;32mimport\u001b[0m \u001b[0mEsriNotebookAuth\u001b[0m\u001b[1;33m\u001b[0m\u001b[1;33m\u001b[0m\u001b[0m\n\u001b[0;32m    505\u001b[0m \u001b[1;33m\u001b[0m\u001b[0m\n",
      "\u001b[1;31mAttributeError\u001b[0m: 'NoneType' object has no attribute 'lower'"
     ]
    }
   ],
   "source": [
    "profile_name = \"lv7966\"\n",
    "\n",
    "gis = GIS(profile=profile_name)\n",
    "gis.users.me"
   ]
  },
  {
   "cell_type": "markdown",
   "id": "72f8905f",
   "metadata": {},
   "source": [
    "Since I can't authenticate my profile right now, I'll just access ArcGIS Python API as anyonymous user."
   ]
  },
  {
   "cell_type": "code",
   "execution_count": null,
   "id": "f282b31b",
   "metadata": {},
   "outputs": [],
   "source": [
    "print(\"ArcGIS Online as anonymous user\")    \n",
    "gis = GIS()\n",
    "print(\"Logged in as anonymous user to \" + gis.properties.portalName)"
   ]
  },
  {
   "cell_type": "code",
   "execution_count": null,
   "id": "d444d2ab",
   "metadata": {},
   "outputs": [],
   "source": [
    "# To query content from my account\n",
    "qe = 'owner:lv7966' #this defines the search query\n",
    "lv_content_count = gis.content.advanced_search(query = qe, return_count=True)"
   ]
  },
  {
   "cell_type": "code",
   "execution_count": null,
   "id": "528cbf79",
   "metadata": {},
   "outputs": [],
   "source": [
    "lv_content_count\n",
    "print(lv_content_count, 'items found for current user')"
   ]
  },
  {
   "cell_type": "code",
   "execution_count": null,
   "id": "2e3ee91b",
   "metadata": {},
   "outputs": [],
   "source": [
    "# To see the specific item names, leave the return_count at its default parameter, false.\n",
    "# By setting the max_items parameter, we can limit the number of items that are returned in the results field.\n",
    "max_items = 3\n",
    "lv_content = gis.content.advanced_search(query = qe, max_items = max_items)\n",
    "lv_content"
   ]
  },
  {
   "cell_type": "code",
   "execution_count": null,
   "id": "91663a97",
   "metadata": {},
   "outputs": [],
   "source": [
    "# Displaying the result items through IPython.display.display()\n",
    "for item in lv_content['results']:\n",
    "    display(item)"
   ]
  },
  {
   "cell_type": "code",
   "execution_count": null,
   "id": "b2591076",
   "metadata": {},
   "outputs": [],
   "source": [
    "# you can sort content as well by date modified or title, in ascending or descending order\n",
    "content_last_modified = gis.content.advanced_search(\n",
    "     query=qe, max_items=max_items, sort_field=\"modified\", sort_order=\"desc\")\n",
    "\n",
    "for item in content_last_modified['results']:\n",
    "    display(item)"
   ]
  },
  {
   "cell_type": "code",
   "execution_count": null,
   "id": "49a6e5d4",
   "metadata": {},
   "outputs": [],
   "source": [
    "# accessing content by ID\n",
    "composite_band = gis.content.get('f12b971090df4889adcec516ead14cbe')\n",
    "composite_band"
   ]
  },
  {
   "cell_type": "code",
   "execution_count": null,
   "id": "29a06df7",
   "metadata": {},
   "outputs": [],
   "source": [
    "band_lyr = composite_band.layers[0]\n",
    "band_lyr"
   ]
  },
  {
   "cell_type": "code",
   "execution_count": null,
   "id": "bfbe8aa1",
   "metadata": {},
   "outputs": [],
   "source": []
  },
  {
   "cell_type": "code",
   "execution_count": null,
   "id": "4ad57d0f",
   "metadata": {},
   "outputs": [],
   "source": []
  },
  {
   "cell_type": "code",
   "execution_count": null,
   "id": "6f73ba5f",
   "metadata": {},
   "outputs": [],
   "source": []
  },
  {
   "cell_type": "code",
   "execution_count": null,
   "id": "428427ea",
   "metadata": {},
   "outputs": [],
   "source": []
  },
  {
   "cell_type": "code",
   "execution_count": null,
   "id": "0d60601c",
   "metadata": {},
   "outputs": [],
   "source": []
  },
  {
   "cell_type": "code",
   "execution_count": null,
   "id": "f8ad7c02",
   "metadata": {},
   "outputs": [],
   "source": []
  },
  {
   "cell_type": "code",
   "execution_count": null,
   "id": "279d88c9",
   "metadata": {},
   "outputs": [],
   "source": []
  },
  {
   "cell_type": "code",
   "execution_count": null,
   "id": "29c57ca1",
   "metadata": {},
   "outputs": [],
   "source": []
  },
  {
   "cell_type": "code",
   "execution_count": null,
   "id": "f6bdad8b",
   "metadata": {},
   "outputs": [],
   "source": []
  },
  {
   "cell_type": "code",
   "execution_count": null,
   "id": "78e6d5bc",
   "metadata": {},
   "outputs": [],
   "source": [
    "## Create a web map object from a web map item"
   ]
  },
  {
   "cell_type": "code",
   "execution_count": null,
   "id": "3e28ca59",
   "metadata": {},
   "outputs": [],
   "source": [
    "from arcgis.mapping import WebMap\n",
    "from arcgis.gis import GIS"
   ]
  },
  {
   "cell_type": "code",
   "execution_count": null,
   "id": "21b9dd47",
   "metadata": {},
   "outputs": [],
   "source": [
    "composite_band2 = gis.content.get('55715db744534adea5ce4bd2f372f032')\n",
    "composite_band2"
   ]
  },
  {
   "cell_type": "code",
   "execution_count": null,
   "id": "fbb38ca9",
   "metadata": {},
   "outputs": [],
   "source": [
    "wm = WebMap(composite_band2)\n",
    "type(wm)"
   ]
  },
  {
   "cell_type": "code",
   "execution_count": null,
   "id": "09b22ed3",
   "metadata": {},
   "outputs": [],
   "source": [
    "layers = wm.layers\n",
    "wm.layers"
   ]
  },
  {
   "cell_type": "code",
   "execution_count": null,
   "id": "a287b299",
   "metadata": {},
   "outputs": [],
   "source": [
    "comp_layer = gis.content.get('2de1b85417ee411a99d6e71e4627aad4')\n",
    "comp_layer"
   ]
  },
  {
   "cell_type": "code",
   "execution_count": null,
   "id": "6bb86d22",
   "metadata": {},
   "outputs": [],
   "source": [
    "m1 = gis.map('Plumas County')\n",
    "m1.basemap\n",
    "m1"
   ]
  },
  {
   "cell_type": "code",
   "execution_count": null,
   "id": "a0c0bef5",
   "metadata": {},
   "outputs": [],
   "source": [
    "m1.add_layer(layers[0])"
   ]
  },
  {
   "cell_type": "code",
   "execution_count": null,
   "id": "3304ee8c",
   "metadata": {},
   "outputs": [],
   "source": []
  },
  {
   "cell_type": "code",
   "execution_count": null,
   "id": "907282b7",
   "metadata": {},
   "outputs": [],
   "source": []
  },
  {
   "cell_type": "code",
   "execution_count": null,
   "id": "44dd424f",
   "metadata": {},
   "outputs": [],
   "source": []
  },
  {
   "cell_type": "code",
   "execution_count": null,
   "id": "359548da",
   "metadata": {},
   "outputs": [],
   "source": []
  },
  {
   "cell_type": "code",
   "execution_count": null,
   "id": "c416c4dd",
   "metadata": {},
   "outputs": [],
   "source": []
  },
  {
   "cell_type": "code",
   "execution_count": null,
   "id": "c354aa1d",
   "metadata": {},
   "outputs": [],
   "source": []
  },
  {
   "cell_type": "code",
   "execution_count": null,
   "id": "6798142a",
   "metadata": {},
   "outputs": [],
   "source": [
    "final_attempt = gis.content.get('2de1b85417ee411a99d6e71e4627aad4')\n",
    "item_type = \"Map Image Layer\", outside_org=True)[0].layers[0]\n",
    "final_attempt"
   ]
  },
  {
   "cell_type": "code",
   "execution_count": null,
   "id": "1b6a50c6",
   "metadata": {},
   "outputs": [],
   "source": [
    "m2 = gis.map('Plumas County')\n",
    "m2.basemap"
   ]
  },
  {
   "cell_type": "code",
   "execution_count": null,
   "id": "554fc8a6",
   "metadata": {
    "scrolled": true
   },
   "outputs": [],
   "source": [
    "m2"
   ]
  },
  {
   "cell_type": "code",
   "execution_count": null,
   "id": "99c3edc2",
   "metadata": {},
   "outputs": [],
   "source": [
    "m2.add_layer(final_attempt)"
   ]
  },
  {
   "cell_type": "code",
   "execution_count": null,
   "id": "7ccd47ef",
   "metadata": {},
   "outputs": [],
   "source": [
    "illinois_blk_grps = gis.content.get('a11d886be35149cb9dab0f7aac75a2af')"
   ]
  },
  {
   "cell_type": "code",
   "execution_count": null,
   "id": "07000f2b",
   "metadata": {},
   "outputs": [],
   "source": [
    "blk_lyr = illinois_blk_grps.layers[0]"
   ]
  },
  {
   "cell_type": "code",
   "execution_count": null,
   "id": "19fe18ec",
   "metadata": {},
   "outputs": [],
   "source": [
    "m2 = gis.map('chicago')\n",
    "m2"
   ]
  },
  {
   "cell_type": "code",
   "execution_count": null,
   "id": "cf89247a",
   "metadata": {},
   "outputs": [],
   "source": [
    "m2.add_layer(blk_lyr)"
   ]
  },
  {
   "cell_type": "code",
   "execution_count": null,
   "id": "c42d724e",
   "metadata": {},
   "outputs": [],
   "source": [
    "import matplotlib.pyplot as plt\n",
    "import matplotlib.image as img\n",
    "\n",
    "aws_backups = 'aws_backups.png'"
   ]
  },
  {
   "cell_type": "code",
   "execution_count": null,
   "id": "9083cb40",
   "metadata": {},
   "outputs": [],
   "source": [
    "aws_backups"
   ]
  },
  {
   "cell_type": "code",
   "execution_count": null,
   "id": "b3a3bdac",
   "metadata": {},
   "outputs": [],
   "source": [
    "# reading png image file\n",
    "read = img.imread(aws_backups)\n",
    "  \n",
    "# show image\n",
    "plt.imshow(read)"
   ]
  },
  {
   "cell_type": "code",
   "execution_count": null,
   "id": "f1589f72",
   "metadata": {},
   "outputs": [],
   "source": [
    "usa_map = gis.map('USA', zoomlevel=4)  # you can specify the zoom level when creating a map\n",
    "usa_map"
   ]
  },
  {
   "cell_type": "code",
   "execution_count": null,
   "id": "9aa02a2e",
   "metadata": {},
   "outputs": [],
   "source": [
    "flayer_search_result = gis.content.search(\"owner:esri\",\"Feature Layer\", outside_org=True)\n",
    "flayer_search_result"
   ]
  },
  {
   "cell_type": "code",
   "execution_count": null,
   "id": "28a025c6",
   "metadata": {},
   "outputs": [],
   "source": [
    "usa_map.add_layer(flayer_search_result[2])"
   ]
  },
  {
   "cell_type": "code",
   "execution_count": null,
   "id": "fb919176",
   "metadata": {},
   "outputs": [],
   "source": []
  },
  {
   "cell_type": "code",
   "execution_count": null,
   "id": "bf580633",
   "metadata": {},
   "outputs": [],
   "source": []
  },
  {
   "cell_type": "code",
   "execution_count": null,
   "id": "e61b19d7",
   "metadata": {},
   "outputs": [],
   "source": []
  },
  {
   "cell_type": "code",
   "execution_count": null,
   "id": "bb889684",
   "metadata": {},
   "outputs": [],
   "source": []
  },
  {
   "cell_type": "code",
   "execution_count": 4,
   "id": "97296a6d",
   "metadata": {},
   "outputs": [],
   "source": [
    "from arcgis.gis import GIS\n",
    "gis = GIS()"
   ]
  },
  {
   "cell_type": "code",
   "execution_count": 24,
   "id": "da9a6a7c",
   "metadata": {},
   "outputs": [],
   "source": [
    "refl_full_res = gis.content.get('404db775dfc846988c6b02922d4162e8')"
   ]
  },
  {
   "cell_type": "code",
   "execution_count": 25,
   "id": "e51538f6",
   "metadata": {},
   "outputs": [
    {
     "data": {
      "text/html": [
       "<div class=\"item_container\" style=\"height: auto; overflow: hidden; border: 1px solid #cfcfcf; border-radius: 2px; background: #f6fafa; line-height: 1.21429em; padding: 10px;\">\n",
       "                    <div class=\"item_left\" style=\"width: 210px; float: left;\">\n",
       "                       <a href='https://www.arcgis.com/home/item.html?id=404db775dfc846988c6b02922d4162e8' target='_blank'>\n",
       "                        <img src='https://www.arcgis.com/sharing/rest//content/items/404db775dfc846988c6b02922d4162e8/info/thumbnail/ago_downloaded.png' class=\"itemThumbnail\">\n",
       "                       </a>\n",
       "                    </div>\n",
       "\n",
       "                    <div class=\"item_right\"     style=\"float: none; width: auto; overflow: hidden;\">\n",
       "                        <a href='https://www.arcgis.com/home/item.html?id=404db775dfc846988c6b02922d4162e8' target='_blank'><b>Reflective_Full_Resolution_Browse</b>\n",
       "                        </a>\n",
       "                        <br/><img src='https://www.arcgis.com/home/js/jsapi/esri/css/images/item_type_icons/layers16.png' style=\"vertical-align:middle;\">Web Mapping Application by lv7966\n",
       "                        <br/>Last Modified: February 24, 2023\n",
       "                        <br/>0 comments, 20 views\n",
       "                    </div>\n",
       "                </div>\n",
       "                "
      ],
      "text/plain": [
       "<Item title:\"Reflective_Full_Resolution_Browse\" type:Web Mapping Application owner:lv7966>"
      ]
     },
     "execution_count": 25,
     "metadata": {},
     "output_type": "execute_result"
    }
   ],
   "source": [
    "refl_full_res"
   ]
  },
  {
   "cell_type": "code",
   "execution_count": 23,
   "id": "3173f40d",
   "metadata": {},
   "outputs": [
    {
     "data": {
      "application/vnd.jupyter.widget-view+json": {
       "model_id": "fa946041a39a4c3bac491b8bd0d6f8e5",
       "version_major": 2,
       "version_minor": 0
      },
      "text/plain": [
       "MapView(hide_mode_switch=True, layout=Layout(height='400px', width='100%'))"
      ]
     },
     "metadata": {},
     "output_type": "display_data"
    },
    {
     "data": {
      "text/html": [
       "<div class=\"map-static-img-preview-6480af12-a660-4fc3-980c-012e29f139b1\"><img src=\"\"></img></div>"
      ],
      "text/plain": [
       "<IPython.core.display.HTML object>"
      ]
     },
     "metadata": {},
     "output_type": "display_data"
    },
    {
     "data": {
      "text/html": [
       "<div class=\"map-html-embed-preview-6480af12-a660-4fc3-980c-012e29f139b1\"></div>"
      ],
      "text/plain": [
       "<IPython.core.display.HTML object>"
      ]
     },
     "metadata": {},
     "output_type": "display_data"
    }
   ],
   "source": [
    "from arcgis.mapping import WebMap\n",
    "full_res = WebMap(refl_full_res)\n",
    "full_res"
   ]
  },
  {
   "cell_type": "code",
   "execution_count": null,
   "id": "b2e61d88",
   "metadata": {},
   "outputs": [],
   "source": []
  }
 ],
 "metadata": {
  "kernelspec": {
   "display_name": "Python 3",
   "language": "python",
   "name": "python3"
  },
  "language_info": {
   "codemirror_mode": {
    "name": "ipython",
    "version": 3
   },
   "file_extension": ".py",
   "mimetype": "text/x-python",
   "name": "python",
   "nbconvert_exporter": "python",
   "pygments_lexer": "ipython3",
   "version": "3.9.11"
  }
 },
 "nbformat": 4,
 "nbformat_minor": 5
}
