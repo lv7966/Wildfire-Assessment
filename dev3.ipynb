{
 "cells": [
  {
   "cell_type": "markdown",
   "id": "f8bf4260",
   "metadata": {},
   "source": [
    "# Add a layer from an item"
   ]
  },
  {
   "cell_type": "code",
   "execution_count": 1,
   "id": "bc58d5cb",
   "metadata": {},
   "outputs": [],
   "source": [
    "# Add the following code to model a GIS portal from the ArcGIS API for Python. \n",
    "# arcgis.gis is the ArcGIS API for Python GIS model.\n",
    "\n",
    "from arcgis.gis import GIS\n",
    "\n",
    "# add this code too\n",
    "from arcgis.geocoding import geocode"
   ]
  },
  {
   "cell_type": "code",
   "execution_count": 2,
   "id": "0195d1a4",
   "metadata": {},
   "outputs": [],
   "source": [
    "# Create a variable to hold the item ID of the public dataset.\n",
    "trailheads_id = \"883cedb8c9fe4524b64d47666ed234a7\""
   ]
  },
  {
   "cell_type": "code",
   "execution_count": 3,
   "id": "da2c9846",
   "metadata": {},
   "outputs": [],
   "source": [
    "# Create an anonymous connection to ArcGIS Online to retrieve this public data.\n",
    "gis = GIS()"
   ]
  },
  {
   "cell_type": "code",
   "execution_count": 4,
   "id": "49917400",
   "metadata": {},
   "outputs": [
    {
     "data": {
      "text/html": [
       "<div class=\"item_container\" style=\"height: auto; overflow: hidden; border: 1px solid #cfcfcf; border-radius: 2px; background: #f6fafa; line-height: 1.21429em; padding: 10px;\">\n",
       "                    <div class=\"item_left\" style=\"width: 210px; float: left;\">\n",
       "                       <a href='https://www.arcgis.com/home/item.html?id=883cedb8c9fe4524b64d47666ed234a7' target='_blank'>\n",
       "                        <img src='https://www.arcgis.com/sharing/rest//content/items/883cedb8c9fe4524b64d47666ed234a7/info/thumbnail/ago_downloaded.png' class=\"itemThumbnail\">\n",
       "                       </a>\n",
       "                    </div>\n",
       "\n",
       "                    <div class=\"item_right\"     style=\"float: none; width: auto; overflow: hidden;\">\n",
       "                        <a href='https://www.arcgis.com/home/item.html?id=883cedb8c9fe4524b64d47666ed234a7' target='_blank'><b>Trailheads</b>\n",
       "                        </a>\n",
       "                        <br/>Trailheads in the Santa Monica Mountains<img src='https://www.arcgis.com/home/js/jsapi/esri/css/images/item_type_icons/featureshosted16.png' style=\"vertical-align:middle;\">Feature Layer Collection by esri_devlabs\n",
       "                        <br/>Last Modified: November 14, 2022\n",
       "                        <br/>0 comments, 18953 views\n",
       "                    </div>\n",
       "                </div>\n",
       "                "
      ],
      "text/plain": [
       "<Item title:\"Trailheads\" type:Feature Layer Collection owner:esri_devlabs>"
      ]
     },
     "execution_count": 4,
     "metadata": {},
     "output_type": "execute_result"
    }
   ],
   "source": [
    "# Access this data an an ArcGIS Python API item object.\n",
    "trailheads_item = gis.content.get(trailheads_id)\n",
    "trailheads_item"
   ]
  },
  {
   "cell_type": "code",
   "execution_count": 5,
   "id": "8bbb5f0c",
   "metadata": {},
   "outputs": [
    {
     "data": {
      "application/vnd.jupyter.widget-view+json": {
       "model_id": "d22cb856c9c44573bacd1687e7e0f7de",
       "version_major": 2,
       "version_minor": 0
      },
      "text/plain": [
       "MapView(layout=Layout(height='400px', width='100%'))"
      ]
     },
     "metadata": {},
     "output_type": "display_data"
    },
    {
     "data": {
      "text/html": [
       "<div class=\"map-static-img-preview-329850ae-147b-4d7b-b610-7c72d2709610\"><img src=\"\"></img></div>"
      ],
      "text/plain": [
       "<IPython.core.display.HTML object>"
      ]
     },
     "metadata": {},
     "output_type": "display_data"
    },
    {
     "data": {
      "text/html": [
       "<div class=\"map-html-embed-preview-329850ae-147b-4d7b-b610-7c72d2709610\"></div>"
      ],
      "text/plain": [
       "<IPython.core.display.HTML object>"
      ]
     },
     "metadata": {},
     "output_type": "display_data"
    }
   ],
   "source": [
    "# Create a map and add the new layer.\n",
    "m = gis.map()\n",
    "m.add_layer(trailheads_item)\n",
    "m"
   ]
  },
  {
   "cell_type": "code",
   "execution_count": 6,
   "id": "b10d901e",
   "metadata": {},
   "outputs": [],
   "source": [
    "# Set the zoom level and center point of the map.\n",
    "m.center = [34.09042, -118.71511]  # [latitude, longitude]\n",
    "m.zoom = 11"
   ]
  },
  {
   "cell_type": "code",
   "execution_count": 7,
   "id": "4ffc5c68",
   "metadata": {},
   "outputs": [],
   "source": [
    "# the above layer I imported was a feature layer. Let me see if I can add layers with other layer types.\n",
    "# here is a map image layer: arcgis.com/home/item.html?id=2aaac52171ec4221a09e2b392f09f9e5"
   ]
  },
  {
   "cell_type": "code",
   "execution_count": 10,
   "id": "91bb379b",
   "metadata": {},
   "outputs": [],
   "source": [
    "tapestry = gis.content.get('2aaac52171ec4221a09e2b392f09f9e5')"
   ]
  },
  {
   "cell_type": "code",
   "execution_count": 11,
   "id": "92907991",
   "metadata": {},
   "outputs": [
    {
     "name": "stdout",
     "output_type": "stream",
     "text": [
      "Expecting value: line 1 column 3 (char 2)\n"
     ]
    },
    {
     "name": "stderr",
     "output_type": "stream",
     "text": [
      "Item.layers is a 'NoneType' object: nothing to be added to map\n"
     ]
    },
    {
     "name": "stdout",
     "output_type": "stream",
     "text": [
      "Expecting value: line 1 column 3 (char 2)\n"
     ]
    }
   ],
   "source": [
    "m.add_layer(tapestry)"
   ]
  },
  {
   "cell_type": "code",
   "execution_count": 12,
   "id": "2bcf5abc",
   "metadata": {},
   "outputs": [],
   "source": [
    "# I'll try another feature layer"
   ]
  },
  {
   "cell_type": "code",
   "execution_count": 13,
   "id": "a749a8ce",
   "metadata": {},
   "outputs": [],
   "source": [
    "sf = gis.content.get('cb540c32534345d9adc623e1030f09d0')\n",
    "m.add_layer(sf)"
   ]
  },
  {
   "cell_type": "code",
   "execution_count": 14,
   "id": "5fd25938",
   "metadata": {},
   "outputs": [],
   "source": [
    "# That worked. Now let's try a tile layer"
   ]
  },
  {
   "cell_type": "code",
   "execution_count": 15,
   "id": "584efc91",
   "metadata": {},
   "outputs": [],
   "source": [
    "santa = gis.content.get('f0298e881b5b4743bbdf2c7d378acc84')\n",
    "m.add_layer(santa)"
   ]
  },
  {
   "cell_type": "code",
   "execution_count": 16,
   "id": "c8271e27",
   "metadata": {},
   "outputs": [],
   "source": [
    "# By god, that worked! Does that mean it will work with my tile layer that I created?\n",
    "# No. There are a couple key differences. Mine is a \"map service\", his is a \"vector tile service\". \n",
    "# His also says it's a \"feature layer\" in the item details."
   ]
  },
  {
   "cell_type": "code",
   "execution_count": null,
   "id": "914ce65c",
   "metadata": {},
   "outputs": [],
   "source": []
  },
  {
   "cell_type": "markdown",
   "id": "5ef3114d",
   "metadata": {},
   "source": [
    "# New heading"
   ]
  }
 ],
 "metadata": {
  "kernelspec": {
   "display_name": "Python 3",
   "language": "python",
   "name": "python3"
  },
  "language_info": {
   "codemirror_mode": {
    "name": "ipython",
    "version": 3
   },
   "file_extension": ".py",
   "mimetype": "text/x-python",
   "name": "python",
   "nbconvert_exporter": "python",
   "pygments_lexer": "ipython3",
   "version": "3.9.11"
  }
 },
 "nbformat": 4,
 "nbformat_minor": 5
}
