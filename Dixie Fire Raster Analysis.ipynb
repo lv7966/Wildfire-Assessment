{
 "cells": [
  {
   "cell_type": "markdown",
   "id": "45545942",
   "metadata": {},
   "source": [
    "# 2021 Dixie Fire Raster Analysis"
   ]
  },
  {
   "cell_type": "markdown",
   "id": "90f8f038",
   "metadata": {},
   "source": [
    "The 2021 Dixie Fire began on July 13, 2021 when a large fir tree fell on top of a 12-kilovolt power distribution line operated by Pacific Gas and Electric Company (PG&E), resulting in the ignition of fuels on the ground beneath the transmission lines. By August 6, it has become the largest single wildfire in California's history, primarily impacting Plumas County, CA. Contributing factors to its spread included intensification of drought, overcrowded forest, and poor road access to the initial outbreak area making it difficult for emergency personnel to control the fire.\n",
    "\n",
    "On September 9, the weather conditions became more favorable with calmer winds, cool overnight temperatures, rain and increased humidity. By September 22, containment reached 95% and on October 1, the last remaining area became devoid of heat according to infrared data."
   ]
  },
  {
   "cell_type": "code",
   "execution_count": 1,
   "id": "9bb8156a",
   "metadata": {},
   "outputs": [],
   "source": [
    "# **Table of Contents**\n",
    "\n",
    "#Dixie Fire Analysis Introduction\n",
    "#Import libraries\n",
    "#Getting Data\n",
    "#Exploratory Data Analysis\n",
    "#Visual Assessment\n",
    "#Quantitative Assessment\n",
    "#Image Segmentation and Classification\n",
    "#Conclusion"
   ]
  },
  {
   "cell_type": "markdown",
   "id": "8d260cb0",
   "metadata": {},
   "source": [
    "# Import libraries"
   ]
  },
  {
   "cell_type": "code",
   "execution_count": null,
   "id": "d53589ec",
   "metadata": {},
   "outputs": [],
   "source": [
    "from arcgis.gis import GIS\n",
    "from IPython.display import display\n",
    "gis = GIS()"
   ]
  },
  {
   "cell_type": "code",
   "execution_count": null,
   "id": "9c53285f",
   "metadata": {},
   "outputs": [],
   "source": [
    "import arcgis\n",
    "from arcgis.raster.functions import *\n",
    "from ipywidgets import *\n",
    "import matplotlib.pyplot as plt\n",
    "import matplotlib.image as img\n",
    "from matplotlib import rcParams"
   ]
  },
  {
   "cell_type": "markdown",
   "id": "25536ca8",
   "metadata": {},
   "source": [
    "# Getting Data"
   ]
  },
  {
   "cell_type": "markdown",
   "id": "41d4d572",
   "metadata": {},
   "source": [
    "I used USGS Earth explorer's data base to find data. https://earthexplorer.usgs.gov/"
   ]
  },
  {
   "cell_type": "markdown",
   "id": "b4b8c4ca",
   "metadata": {},
   "source": [
    "I found Landsat 8 Imagery taken from before, during, and after the fire. Pre-fire imagery scene ID: LC08_L1TP_044032_20200622_20200823_02_T1, acquired 06/22/2020. Post-fire imagery scene ID: LC08_L1TP_044032_20211015_20211025_02_T1, acquired 10/15/2021. I then imported the rasters from each scene into ArcGIS Pro as seven single-band TIF files for analysis."
   ]
  },
  {
   "cell_type": "markdown",
   "id": "ed9c0c95",
   "metadata": {},
   "source": [
    "# Exploratory Data Analysis"
   ]
  },
  {
   "cell_type": "markdown",
   "id": "dabcb973",
   "metadata": {},
   "source": [
    "According to Esri, a natural color orthoimage is a multiband image in which there are three bands, each representing either red, green, or blue light. https://pro.arcgis.com/en/pro-app/latest/help/data/imagery/raster-bands-pro-.htm According to GISGeography.com, band 2 shows visible green, band 3 visible blue, and band 4 visible red. https://gisgeography.com/landsat-8-bands-combinations/\n",
    "To test the data, I used the geoprocessing tool 'Composite Bands' to form a multiband raster of each data set."
   ]
  },
  {
   "cell_type": "code",
   "execution_count": null,
   "id": "89668eec",
   "metadata": {},
   "outputs": [],
   "source": [
    "multiband_raster = 'Data/sat_image.png'\n",
    "# reading png image file\n",
    "read = img.imread(multiband_raster)\n",
    "  \n",
    "# show image\n",
    "plt.imshow(read)"
   ]
  },
  {
   "cell_type": "markdown",
   "id": "a0f311d3",
   "metadata": {},
   "source": [
    "This image didn't look very \"natural\" to me so I created another multiband raster using the bands that USGS recommends\n",
    "to form a \"Reflective Full Resolution Browse\" image (Bands 6,5,4)\n",
    "https://www.usgs.gov/landsat-missions/landsat-collection-2-full-resolution-browse-images"
   ]
  },
  {
   "cell_type": "code",
   "execution_count": null,
   "id": "5fa08d61",
   "metadata": {},
   "outputs": [],
   "source": [
    "refl = 'Data/reflective_full_resolution.png'\n",
    "read = img.imread(refl)\n",
    "plt.imshow(read)\n",
    "print('Before Dixie Fire')"
   ]
  },
  {
   "cell_type": "markdown",
   "id": "d86de6fa",
   "metadata": {},
   "source": [
    "I thought that looked a lot better. So I applied the same process to the post-fire data, to see if there were any immediately visible contrasts between the two images, and created a Web Mapping Application with a swipe tool to visualize the differences."
   ]
  },
  {
   "cell_type": "code",
   "execution_count": null,
   "id": "5b307bdb",
   "metadata": {},
   "outputs": [],
   "source": [
    "refl_full_res = gis.content.get('404db775dfc846988c6b02922d4162e8')\n",
    "print('Visualization of affected areas:')\n",
    "refl_full_res"
   ]
  },
  {
   "cell_type": "markdown",
   "id": "b89a82db",
   "metadata": {},
   "source": [
    "# Visual Assessment"
   ]
  },
  {
   "cell_type": "markdown",
   "id": "14702356",
   "metadata": {},
   "source": [
    "The burn scars were very apparent. However, to create an infrared (burn severity) map that highlights visibility of fire and burn scars, the bands 5,3,2 must be combined using composite bands. Healthy vegetation is shown in bright red, while \n",
    "stressed vegetation is displayed as dull red."
   ]
  },
  {
   "cell_type": "code",
   "execution_count": null,
   "id": "f0279a88",
   "metadata": {},
   "outputs": [],
   "source": [
    "%matplotlib inline\n",
    "\n",
    "# figure size in inches optional\n",
    "rcParams['figure.figsize'] = 15 ,12\n",
    "\n",
    "# read images\n",
    "img_A = img.imread('Data/burn_scars.png')\n",
    "img_B = img.imread('Data/infrared.png')\n",
    "\n",
    "# display images\n",
    "fig, ax = plt.subplots(1,2)\n",
    "ax[0].imshow(img_B)\n",
    "ax[1].imshow(img_A)\n",
    "print('Before and after the Dixie fire')"
   ]
  },
  {
   "cell_type": "markdown",
   "id": "1f608d61",
   "metadata": {},
   "source": [
    "# Burnt Area Calculation"
   ]
  },
  {
   "cell_type": "markdown",
   "id": "c78b0513",
   "metadata": {},
   "source": [
    "In order to perform a true analysis of how much vegetation was affected by the fire, I'll need to categorize the\n",
    "raster image into classes. Using image segmentation and classification we can determine the total amount of vegetation\n",
    "affected. I performed this through the Image Classification wizard on ArcGIS Pro using the post-fire infrared layer."
   ]
  },
  {
   "cell_type": "markdown",
   "id": "c710bf64",
   "metadata": {},
   "source": [
    "I ran an unsupervised classification with a maximum number of 9 classes. I then reclassified those into four categories:\n",
    "Burnt area, vegetation, water, and barren land. Since the classification tool is not perfect, I had to manually re-\n",
    "classify some areas, totaling 14 edits."
   ]
  },
  {
   "cell_type": "code",
   "execution_count": null,
   "id": "b8801511",
   "metadata": {},
   "outputs": [],
   "source": [
    "%matplotlib inline\n",
    "\n",
    "rcParams['figure.figsize'] = 15 ,12\n",
    "\n",
    "img_A = img.imread('Data/burn_scars.png')\n",
    "img_B = img.imread('Data/reclassified_land_types.png')\n",
    "\n",
    "fig, ax = plt.subplots(1,2)\n",
    "ax[0].imshow(img_A)\n",
    "ax[1].imshow(img_B)\n",
    "print('Before and after image classification')"
   ]
  },
  {
   "cell_type": "code",
   "execution_count": null,
   "id": "0147d189",
   "metadata": {},
   "outputs": [],
   "source": [
    "reclassified = gis.content.get('ceb3a6ce0d5f4872ae15b9731c06434a')\n",
    "print('Comparison of the two layers in a web map:')\n",
    "reclassified"
   ]
  },
  {
   "cell_type": "markdown",
   "id": "2cc229c9",
   "metadata": {},
   "source": [
    "To calculate the total burnt area in the image, I converted the reclassified layer into polygons using the raster to polygons geoprocessing tool. Then I added a field in the vector layer's attribute table and selected the polygons by attributes with the expression \"gridcode is equal to 3\" to select those polygons indicating burnt area. In the attribute table I calculated the geometry of the new field I created and selected \"area\" as the property and \"square meters\" as the map unit, showing the values for only the burnt area polygons."
   ]
  },
  {
   "cell_type": "code",
   "execution_count": null,
   "id": "afe7e246",
   "metadata": {},
   "outputs": [],
   "source": [
    "calc = 'Data/calculate_geometry_m2.png'\n",
    "showcalc = img.imread(calc)\n",
    "plt.imshow(showcalc)\n",
    "print('Area calculation of \"Burnt area\" polygons')"
   ]
  },
  {
   "cell_type": "markdown",
   "id": "3cbf29d7",
   "metadata": {},
   "source": [
    "The sum total was 3,763,176,718."
   ]
  },
  {
   "cell_type": "code",
   "execution_count": null,
   "id": "f030fa67",
   "metadata": {},
   "outputs": [],
   "source": [
    "rcParams['figure.figsize'] = 9 ,6\n",
    "stats = 'Data/stats2.png'\n",
    "showstats = img.imread(stats)\n",
    "plt.imshow(showstats)\n",
    "print('Sum of \"Burnt area\" polygons in square meters')"
   ]
  },
  {
   "cell_type": "markdown",
   "id": "dd347056",
   "metadata": {},
   "source": [
    "To verify the accuracy of my result, I researched the total area burnt by the Dixie fire. According to Wikipedia, that area was \n",
    "3,898 square kilometers, or 3,898,000 square meters; fairly close to my estimate. The main extent of the damage occurred in Plumas County, where several towns including Greenville, Canyondam, and Warner Valley were destroyed or damaged."
   ]
  }
 ],
 "metadata": {
  "kernelspec": {
   "display_name": "Python 3",
   "language": "python",
   "name": "python3"
  },
  "language_info": {
   "codemirror_mode": {
    "name": "ipython",
    "version": 3
   },
   "file_extension": ".py",
   "mimetype": "text/x-python",
   "name": "python",
   "nbconvert_exporter": "python",
   "pygments_lexer": "ipython3",
   "version": "3.9.11"
  }
 },
 "nbformat": 4,
 "nbformat_minor": 5
}
